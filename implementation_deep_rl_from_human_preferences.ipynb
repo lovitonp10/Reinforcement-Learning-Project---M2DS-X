{
 "cells": [
  {
   "cell_type": "markdown",
   "id": "7b5c93ab-2e5a-4d77-966b-45f71e556946",
   "metadata": {},
   "source": [
    "# 1. With Human Preferences"
   ]
  },
  {
   "cell_type": "code",
   "execution_count": 101,
   "id": "648e8a1d-0fdf-4b88-b6b3-176623aab17f",
   "metadata": {},
   "outputs": [],
   "source": [
    "import warnings\n",
    "warnings.filterwarnings(\"ignore\")"
   ]
  },
  {
   "cell_type": "code",
   "execution_count": 123,
   "id": "5ae6fa38-72be-4be6-9c19-f18499a74395",
   "metadata": {},
   "outputs": [],
   "source": [
    "import numpy as np\n",
    "import tensorflow as tf\n",
    "import tensorflow_probability as tfp\n",
    "from tensorflow.keras import layers\n",
    "import random\n",
    "import matplotlib.pyplot as plt\n",
    "import pandas as pd"
   ]
  },
  {
   "cell_type": "code",
   "execution_count": 103,
   "id": "481039c2-f814-4ed2-b888-99bff9aa41fc",
   "metadata": {},
   "outputs": [],
   "source": [
    "import gym\n",
    "\n",
    "env = gym.make('CartPole-v0')"
   ]
  },
  {
   "cell_type": "code",
   "execution_count": 104,
   "id": "5d230657-2266-4bda-9cee-d876ebc13f50",
   "metadata": {},
   "outputs": [],
   "source": [
    "class Actor(tf.keras.Model): # Agent function (our model)\n",
    "    def __init__(self, num_actions, num_hidden_units):\n",
    "        super().__init__()\n",
    "        \n",
    "        self.shared_1 = layers.Dense(num_hidden_units, activation = 'relu')\n",
    "        self.actor = layers.Dense(num_actions)\n",
    "        \n",
    "    def call(self, input_obs):\n",
    "        x = self.shared_1(input_obs)\n",
    "        return self.actor(x)\n",
    "    \n",
    "model = Actor(num_actions=2, num_hidden_units=128)"
   ]
  },
  {
   "cell_type": "markdown",
   "id": "4533a214-569e-47db-91b3-5ef949949c42",
   "metadata": {},
   "source": [
    "This code defines a class **Actor** that represents an agent in reinforcement learning using a neural network model. The class is a subclass of **tf.keras.Model** and uses the **tf.keras** library, which is a high-level API for building and training deep learning models.\n",
    "\n",
    "The class has two class variables:\n",
    "\n",
    "- **shared_1**: a dense layer with **num_hidden_units** number of neurons and the activation function **'relu'** (rectified linear unit).\n",
    "- **actor**: a dense layer with **num_actions** number of neurons, representing the actions the agent can take in the environment.\n",
    "\n",
    "The **call** method takes in an input **input_obs** (representing the state of the environment), applies the shared dense layer to the input, and returns the output from the actor dense layer.\n",
    "\n",
    "Finally, an instance of the class **Actor** is created by calling **model = Actor(num_actions=2, num_hidden_units=128)**, where **num_actions=2** and **num_hidden_units=128** are the number of actions the agent can take and the number of hidden units in the shared dense layer, respectively."
   ]
  },
  {
   "cell_type": "code",
   "execution_count": 105,
   "id": "84eaf161-fb00-4c6b-8e6c-18f9166a0833",
   "metadata": {
    "collapsed": true,
    "jupyter": {
     "outputs_hidden": true
    },
    "tags": []
   },
   "outputs": [
    {
     "ename": "KeyboardInterrupt",
     "evalue": "Interrupted by user",
     "output_type": "error",
     "traceback": [
      "\u001b[0;31m---------------------------------------------------------------------------\u001b[0m",
      "\u001b[0;31mKeyboardInterrupt\u001b[0m                         Traceback (most recent call last)",
      "Cell \u001b[0;32mIn[105], line 21\u001b[0m\n\u001b[1;32m     18\u001b[0m reward \u001b[38;5;241m=\u001b[39m env\u001b[38;5;241m.\u001b[39mstep(action)[\u001b[38;5;241m1\u001b[39m]\n\u001b[1;32m     19\u001b[0m done \u001b[38;5;241m=\u001b[39m env\u001b[38;5;241m.\u001b[39mstep(action)[\u001b[38;5;241m2\u001b[39m]\n\u001b[0;32m---> 21\u001b[0m human_preference_reward \u001b[38;5;241m=\u001b[39m \u001b[43mask_human_preference\u001b[49m\u001b[43m(\u001b[49m\u001b[43mobs\u001b[49m\u001b[38;5;241;43m.\u001b[39;49m\u001b[43mnumpy\u001b[49m\u001b[43m(\u001b[49m\u001b[43m)\u001b[49m\u001b[43m,\u001b[49m\u001b[43m \u001b[49m\u001b[43maction\u001b[49m\u001b[43m,\u001b[49m\u001b[43m \u001b[49m\u001b[43mnew_obs\u001b[49m\u001b[43m)\u001b[49m\n\u001b[1;32m     22\u001b[0m \u001b[38;5;28mprint\u001b[39m(\u001b[38;5;124m'\u001b[39m\u001b[38;5;124myes\u001b[39m\u001b[38;5;124m'\u001b[39m)\n\u001b[1;32m     23\u001b[0m reward \u001b[38;5;241m+\u001b[39m\u001b[38;5;241m=\u001b[39m human_preference_reward\n",
      "Cell \u001b[0;32mIn[67], line 6\u001b[0m, in \u001b[0;36mask_human_preference\u001b[0;34m(state, action, next_state)\u001b[0m\n\u001b[1;32m      1\u001b[0m \u001b[38;5;28;01mdef\u001b[39;00m \u001b[38;5;21mask_human_preference\u001b[39m(state, action, next_state):\n\u001b[1;32m      2\u001b[0m     \u001b[38;5;124;03m\"\"\"\u001b[39;00m\n\u001b[1;32m      3\u001b[0m \u001b[38;5;124;03m    Asks the human for their preference between the current action and a random alternative action.\u001b[39;00m\n\u001b[1;32m      4\u001b[0m \u001b[38;5;124;03m    Returns the reward based on the human's preference.\u001b[39;00m\n\u001b[1;32m      5\u001b[0m \u001b[38;5;124;03m    \"\"\"\u001b[39;00m\n\u001b[0;32m----> 6\u001b[0m     current_reward \u001b[38;5;241m=\u001b[39m \u001b[38;5;28mint\u001b[39m(\u001b[38;5;28;43minput\u001b[39;49m\u001b[43m(\u001b[49m\u001b[38;5;124;43mf\u001b[39;49m\u001b[38;5;124;43m\"\u001b[39;49m\u001b[38;5;124;43mDo you prefer action \u001b[39;49m\u001b[38;5;132;43;01m{\u001b[39;49;00m\u001b[43maction\u001b[49m\u001b[38;5;132;43;01m}\u001b[39;49;00m\u001b[38;5;124;43m leading to \u001b[39;49m\u001b[38;5;132;43;01m{\u001b[39;49;00m\u001b[43mnext_state\u001b[49m\u001b[38;5;132;43;01m}\u001b[39;49;00m\u001b[38;5;124;43m over a random action? (1 for Yes, 0 for No): \u001b[39;49m\u001b[38;5;124;43m\"\u001b[39;49m\u001b[43m)\u001b[49m)\n\u001b[1;32m      7\u001b[0m     random_action \u001b[38;5;241m=\u001b[39m random\u001b[38;5;241m.\u001b[39mchoice([a \u001b[38;5;28;01mfor\u001b[39;00m a \u001b[38;5;129;01min\u001b[39;00m \u001b[38;5;28mrange\u001b[39m(env\u001b[38;5;241m.\u001b[39maction_space\u001b[38;5;241m.\u001b[39mn) \u001b[38;5;28;01mif\u001b[39;00m a \u001b[38;5;241m!=\u001b[39m action])\n\u001b[1;32m      8\u001b[0m     random_next_state \u001b[38;5;241m=\u001b[39m env\u001b[38;5;241m.\u001b[39mstep(random_action)[\u001b[38;5;241m0\u001b[39m]\n",
      "File \u001b[0;32m~/opt/anaconda3/lib/python3.9/site-packages/ipykernel/kernelbase.py:1006\u001b[0m, in \u001b[0;36mKernel.raw_input\u001b[0;34m(self, prompt)\u001b[0m\n\u001b[1;32m   1002\u001b[0m \u001b[38;5;28;01mif\u001b[39;00m \u001b[38;5;129;01mnot\u001b[39;00m \u001b[38;5;28mself\u001b[39m\u001b[38;5;241m.\u001b[39m_allow_stdin:\n\u001b[1;32m   1003\u001b[0m     \u001b[38;5;28;01mraise\u001b[39;00m StdinNotImplementedError(\n\u001b[1;32m   1004\u001b[0m         \u001b[38;5;124m\"\u001b[39m\u001b[38;5;124mraw_input was called, but this frontend does not support input requests.\u001b[39m\u001b[38;5;124m\"\u001b[39m\n\u001b[1;32m   1005\u001b[0m     )\n\u001b[0;32m-> 1006\u001b[0m \u001b[38;5;28;01mreturn\u001b[39;00m \u001b[38;5;28;43mself\u001b[39;49m\u001b[38;5;241;43m.\u001b[39;49m\u001b[43m_input_request\u001b[49m\u001b[43m(\u001b[49m\n\u001b[1;32m   1007\u001b[0m \u001b[43m    \u001b[49m\u001b[38;5;28;43mstr\u001b[39;49m\u001b[43m(\u001b[49m\u001b[43mprompt\u001b[49m\u001b[43m)\u001b[49m\u001b[43m,\u001b[49m\n\u001b[1;32m   1008\u001b[0m \u001b[43m    \u001b[49m\u001b[38;5;28;43mself\u001b[39;49m\u001b[38;5;241;43m.\u001b[39;49m\u001b[43m_parent_ident\u001b[49m\u001b[43m[\u001b[49m\u001b[38;5;124;43m\"\u001b[39;49m\u001b[38;5;124;43mshell\u001b[39;49m\u001b[38;5;124;43m\"\u001b[39;49m\u001b[43m]\u001b[49m\u001b[43m,\u001b[49m\n\u001b[1;32m   1009\u001b[0m \u001b[43m    \u001b[49m\u001b[38;5;28;43mself\u001b[39;49m\u001b[38;5;241;43m.\u001b[39;49m\u001b[43mget_parent\u001b[49m\u001b[43m(\u001b[49m\u001b[38;5;124;43m\"\u001b[39;49m\u001b[38;5;124;43mshell\u001b[39;49m\u001b[38;5;124;43m\"\u001b[39;49m\u001b[43m)\u001b[49m\u001b[43m,\u001b[49m\n\u001b[1;32m   1010\u001b[0m \u001b[43m    \u001b[49m\u001b[43mpassword\u001b[49m\u001b[38;5;241;43m=\u001b[39;49m\u001b[38;5;28;43;01mFalse\u001b[39;49;00m\u001b[43m,\u001b[49m\n\u001b[1;32m   1011\u001b[0m \u001b[43m\u001b[49m\u001b[43m)\u001b[49m\n",
      "File \u001b[0;32m~/opt/anaconda3/lib/python3.9/site-packages/ipykernel/kernelbase.py:1051\u001b[0m, in \u001b[0;36mKernel._input_request\u001b[0;34m(self, prompt, ident, parent, password)\u001b[0m\n\u001b[1;32m   1048\u001b[0m             \u001b[38;5;28;01mbreak\u001b[39;00m\n\u001b[1;32m   1049\u001b[0m \u001b[38;5;28;01mexcept\u001b[39;00m \u001b[38;5;167;01mKeyboardInterrupt\u001b[39;00m:\n\u001b[1;32m   1050\u001b[0m     \u001b[38;5;66;03m# re-raise KeyboardInterrupt, to truncate traceback\u001b[39;00m\n\u001b[0;32m-> 1051\u001b[0m     \u001b[38;5;28;01mraise\u001b[39;00m \u001b[38;5;167;01mKeyboardInterrupt\u001b[39;00m(\u001b[38;5;124m\"\u001b[39m\u001b[38;5;124mInterrupted by user\u001b[39m\u001b[38;5;124m\"\u001b[39m) \u001b[38;5;28;01mfrom\u001b[39;00m \u001b[38;5;28mNone\u001b[39m\n\u001b[1;32m   1052\u001b[0m \u001b[38;5;28;01mexcept\u001b[39;00m \u001b[38;5;167;01mException\u001b[39;00m:\n\u001b[1;32m   1053\u001b[0m     \u001b[38;5;28mself\u001b[39m\u001b[38;5;241m.\u001b[39mlog\u001b[38;5;241m.\u001b[39mwarning(\u001b[38;5;124m\"\u001b[39m\u001b[38;5;124mInvalid Message:\u001b[39m\u001b[38;5;124m\"\u001b[39m, exc_info\u001b[38;5;241m=\u001b[39m\u001b[38;5;28;01mTrue\u001b[39;00m)\n",
      "\u001b[0;31mKeyboardInterrupt\u001b[0m: Interrupted by user"
     ]
    }
   ],
   "source": [
    "obs = env.reset()[0]\n",
    "action_probs_list = []\n",
    "rewards = []\n",
    "done = False\n",
    "obs = tf.expand_dims(obs, 0)\n",
    "while True:\n",
    "    if done:\n",
    "        break\n",
    "    # run model to get action logits and value\n",
    "    action_logits = model(obs)\n",
    "    # categorical probabilistic action idx selection\n",
    "    discrete_distribution = tfp.distributions.Categorical(action_logits)\n",
    "    selection_action_idx = discrete_distribution.sample()\n",
    "\n",
    "    action = int(selection_action_idx.numpy()[0])\n",
    "\n",
    "    new_obs = env.step(action)[0]\n",
    "    reward = env.step(action)[1]\n",
    "    done = env.step(action)[2]\n",
    "\n",
    "    human_preference_reward = ask_human_preference(obs.numpy(), action, new_obs)\n",
    "    print('yes')\n",
    "    reward += human_preference_reward\n",
    "\n",
    "    action_probs = discrete_distribution.prob(selection_action_idx)\n",
    "    action_probs_list.append(action_probs)\n",
    "    rewards.append(reward)"
   ]
  },
  {
   "cell_type": "code",
   "execution_count": 106,
   "id": "9d39e562-e783-4aaa-8f7a-cfe52f94d02d",
   "metadata": {},
   "outputs": [],
   "source": [
    "def ask_human_preference(state, action, next_state):\n",
    "    \"\"\"\n",
    "    Asks the human for their preference between the current action and a random alternative action.\n",
    "    Returns the reward based on the human's preference.\n",
    "    \"\"\"\n",
    "    current_reward = int(input(f\"Do you prefer action {action} leading to {next_state} over a random action? (1 for Yes, 0 for No): \"))\n",
    "    random_action = random.choice([a for a in range(env.action_space.n) if a != action])\n",
    "    random_next_state = env.step(random_action)[0]\n",
    "    alternative_reward = int(input(f\"Do you prefer action {random_action} leading to {random_next_state} over action {action} leading to {next_state}? (1 for Yes, 0 for No): \"))\n",
    "    return current_reward - alternative_reward"
   ]
  },
  {
   "cell_type": "code",
   "execution_count": 107,
   "id": "3d2112fd-4c3c-413d-939f-31ff5bb7521e",
   "metadata": {},
   "outputs": [],
   "source": [
    "def step_episode(env, model):\n",
    "    obs = env.reset()[0]\n",
    "    action_probs_list = []\n",
    "    rewards = []\n",
    "    done = False\n",
    "    obs = tf.expand_dims(obs, 0)\n",
    "    while True:\n",
    "        if done:\n",
    "            break\n",
    "        # run model to get action logits and value\n",
    "        action_logits = model(obs)\n",
    "        # categorical probabilistic action idx selection\n",
    "        discrete_distribution = tfp.distributions.Categorical(action_logits)\n",
    "        selection_action_idx = discrete_distribution.sample()\n",
    "        \n",
    "        action = int(selection_action_idx.numpy()[0])\n",
    "        new_obs = env.step(action)[0]\n",
    "        reward = env.step(action)[1]\n",
    "        done = env.step(action)[2]\n",
    "        #print(done)\n",
    "        #human_preference_reward = ask_human_preference(obs.numpy(), action, new_obs)\n",
    "        #print('yes')\n",
    "        #reward += human_preference_reward\n",
    "        \n",
    "        action_probs = discrete_distribution.prob(selection_action_idx)\n",
    "        action_probs_list.append(action_probs)\n",
    "        rewards.append(reward)\n",
    "        obs = tf.expand_dims(new_obs, 0)\n",
    "    human_preference_reward = ask_human_preference(obs.numpy(), action, new_obs)\n",
    "    rewards[-1]=human_preference_reward\n",
    "    env.close()\n",
    "    return action_probs_list, rewards"
   ]
  },
  {
   "cell_type": "markdown",
   "id": "822cc56d-b0a9-4b1d-b597-f78278ec1b81",
   "metadata": {},
   "source": [
    "This code defines a function **step_episode** that runs a single episode of an environment with a given agent (**model**).\n",
    "\n",
    "The function takes two inputs:\n",
    "\n",
    "- **env**: the environment the agent interacts with\n",
    "- **model**: the agent (**Actor** model)\n",
    "\n",
    "The function returns two outputs:\n",
    "\n",
    "- **action_probs_list**: a list of probability distribution of actions taken by the agent at each time step of the episode\n",
    "- **rewards**: a list of rewards collected by the agent at each time step of the episode\n",
    "\n",
    "The episode starts by resetting the environment and initializing some variables (**obs**, **action_probs_list**, **rewards**, and **done**). The function then enters a while loop and continues until the **done** flag is set (indicating that the episode has terminated).\n",
    "\n",
    "At each time step, the function:\n",
    "\n",
    "- Expands the current observation **obs** into a batch of size 1 (using **tf.expand_dims(obs, 0)**)\n",
    "- Runs the model (**Actor**) on the observation to get the action logits (**action_logits**)\n",
    "- Samples a categorical action index **selection_action_idx** using the logits as input to the Categorical distribution\n",
    "- Steps the environment using the selected action index (**env.step(selection_action_idx.numpy()[0])**) to get the new **observation**, **reward**, and **done** flag\n",
    "- Calculates the action probability using the Categorical distribution **action_probs = discrete_distribution.prob(selection_action_idx)**\n",
    "- Appends the action probability and reward to their respective lists (**action_probs_list** and **rewards**)\n",
    "- Finally, the function closes the environment and returns the **action_probs_list** and **rewards** lists."
   ]
  },
  {
   "cell_type": "code",
   "execution_count": 108,
   "id": "301b61b6-1148-463e-9dff-0480764be6e8",
   "metadata": {},
   "outputs": [],
   "source": [
    "def calc_g(reward_trajectory, gamma):\n",
    "    ez_discount = np.array([gamma**n for n in range(len(reward_trajectory))])\n",
    "    gs = []\n",
    "    reward_trajectory = np.array(reward_trajectory)\n",
    "    \n",
    "    for ts in range(len(reward_trajectory)):\n",
    "        to_end_reward = reward_trajectory[ts:]\n",
    "        eq_len_discount = ez_discount[:len(to_end_reward)]\n",
    "        total_value = np.multiply(to_end_reward, eq_len_discount)\n",
    "        g = sum(total_value)\n",
    "        gs.append(g)\n",
    "        \n",
    "    return gs"
   ]
  },
  {
   "cell_type": "markdown",
   "id": "4fd557de-47b2-4fa7-8feb-df0789827f2f",
   "metadata": {},
   "source": [
    "This function calculates the discounted cumulative rewards (i.e. the returns) for a given reward trajectory in reinforcement learning. The function takes two inputs:\n",
    "\n",
    "- **reward_trajectory**: a list of rewards collected in the trajectory of the agent.\n",
    "- **gamma**: the discount factor used in the calculation of the return.\n",
    "\n",
    "The function returns a list **gs** of the discounted cumulative rewards for each time step in the trajectory, with **gs[t]** being the return following time step **t**.\n",
    "\n",
    "The calculation is done by first creating an array of discounts **ez_discount** using the formula gamma**n for n in the range **0 to len(reward_trajectory)**. Then for each time step **ts** in the **reward_trajectory**, it calculates the rewards from that time step to the end of the trajectory, and discounts each reward by the appropriate discount in **eq_len_discount**. Finally, it multiplies each reward with its corresponding discount, and sums up the result to get the return (**g**). The return is then added to the list **gs**."
   ]
  },
  {
   "cell_type": "code",
   "execution_count": 109,
   "id": "397132e9-1284-46a6-a0a1-b75ffce4b4fa",
   "metadata": {},
   "outputs": [],
   "source": [
    "def actor_loss_fn(action_probs, gs):\n",
    "    action_log_probs = tf.math.log(action_probs)\n",
    "    actor_loss = - tf.math.reduce_sum(action_log_probs * (gs))\n",
    "    return actor_loss"
   ]
  },
  {
   "cell_type": "markdown",
   "id": "d3d65dc5-527b-4d4c-bc49-4f9c41d4f7ff",
   "metadata": {},
   "source": [
    "This code defines a function **actor_loss_fn** that calculates the actor loss in reinforcement learning.\n",
    "\n",
    "The function takes two inputs:\n",
    "\n",
    "- **action_probs**: a list of probability distributions of actions taken by the agent at each time step of the episode\n",
    "- **gs**: a list of discounted returns at each time step of the episode\n",
    "\n",
    "The function returns the actor loss value (**actor_loss**).\n",
    "\n",
    "The function first calculates the log probability of the actions taken by the agent (**action_log_probs**) by taking the logarithm of **action_probs**.\n",
    "\n",
    "Then, it calculates the actor loss by performing an element-wise multiplication between **action_log_probs** and **gs** and reducing the sum of the result. The final loss value is negative to maximize the expected reward, as is common in reinforcement learning."
   ]
  },
  {
   "cell_type": "code",
   "execution_count": 110,
   "id": "5222c52c-af89-41c5-994d-c70188d0c38c",
   "metadata": {},
   "outputs": [],
   "source": [
    "def complete_loss(action_probs, rewards):\n",
    "    gs = calc_g(rewards, .99)\n",
    "    actor_loss_val = actor_loss_fn(action_probs, gs)\n",
    "    return actor_loss_val"
   ]
  },
  {
   "cell_type": "markdown",
   "id": "d46152b1-96b1-4413-b30a-9da7195e1371",
   "metadata": {},
   "source": [
    "This code defines a function **complete_loss** that calculates the total loss for an agent in a given episode.\n",
    "\n",
    "The function takes two inputs:\n",
    "\n",
    "- **action_probs**: a list of probability distribution of actions taken by the agent at each time step of the episode\n",
    "- **rewards**: a list of rewards collected by the agent at each time step of the episode\n",
    "\n",
    "The function returns the final loss value (**actor_loss_val**).\n",
    "\n",
    "The function first calls the **calc_g** function to calculate the discounted return (**gs**) based on the rewards and the discount factor (**0.99**).\n",
    "\n",
    "Then, it calculates the loss value (**actor_loss_val**) by calling the **actor_loss_fn** function and passing in the **action_probs** and **gs**."
   ]
  },
  {
   "cell_type": "code",
   "execution_count": 111,
   "id": "fe663f8f-353b-4c59-b46e-6a6d3886ce1b",
   "metadata": {},
   "outputs": [],
   "source": [
    "optimizer = tf.keras.optimizers.Adam(learning_rate=0.001)"
   ]
  },
  {
   "cell_type": "code",
   "execution_count": 112,
   "id": "f748036f-c856-4db3-9756-f377ab3934c3",
   "metadata": {
    "collapsed": true,
    "jupyter": {
     "outputs_hidden": true
    },
    "tags": []
   },
   "outputs": [
    {
     "name": "stdin",
     "output_type": "stream",
     "text": [
      "Do you prefer action 0 leading to [ 0.06130395  0.4391379  -0.19123808 -1.3347244 ] over a random action? (1 for Yes, 0 for No):  0\n",
      "Do you prefer action 1 leading to [ 0.07612757  0.2526062  -0.25788748 -1.2478482 ] over action 0 leading to [ 0.06130395  0.4391379  -0.19123808 -1.3347244 ]? (1 for Yes, 0 for No):  0\n"
     ]
    },
    {
     "name": "stdout",
     "output_type": "stream",
     "text": [
      "0 9.0\n"
     ]
    },
    {
     "name": "stdin",
     "output_type": "stream",
     "text": [
      "Do you prefer action 0 leading to [-0.05062019 -1.4145433   0.14278352  2.165535  ] over a random action? (1 for Yes, 0 for No):  1\n",
      "Do you prefer action 1 leading to [-0.14726302 -1.6139232   0.29291096  2.6295507 ] over action 0 leading to [-0.05062019 -1.4145433   0.14278352  2.165535  ]? (1 for Yes, 0 for No):  0\n",
      "Do you prefer action 1 leading to [ 0.00186072  0.19027106 -0.1987237  -0.9627763 ] over a random action? (1 for Yes, 0 for No):  1\n",
      "Do you prefer action 0 leading to [ 0.02510552  0.39295053 -0.27745357 -1.4552069 ] over action 1 leading to [ 0.00186072  0.19027106 -0.1987237  -0.9627763 ]? (1 for Yes, 0 for No):  0\n",
      "Do you prefer action 1 leading to [-0.11770803 -1.026756    0.20149608  1.7081758 ] over a random action? (1 for Yes, 0 for No):  0\n",
      "Do you prefer action 0 leading to [-0.1677887  -0.84017986  0.29081836  1.6363155 ] over action 1 leading to [-0.11770803 -1.026756    0.20149608  1.7081758 ]? (1 for Yes, 0 for No):  0\n",
      "Do you prefer action 0 leading to [-0.15248846 -1.3333156   0.24607694  2.246089  ] over a random action? (1 for Yes, 0 for No):  1\n",
      "Do you prefer action 1 leading to [-0.24426545 -1.5338758   0.40245885  2.7973304 ] over action 0 leading to [-0.15248846 -1.3333156   0.24607694  2.246089  ]? (1 for Yes, 0 for No):  0\n",
      "Do you prefer action 1 leading to [-0.08407712 -1.0344257   0.18838215  1.703849  ] over a random action? (1 for Yes, 0 for No):  1\n",
      "Do you prefer action 0 leading to [-0.13460544 -0.847386    0.27715302  1.6193621 ] over action 1 leading to [-0.08407712 -1.0344257   0.18838215  1.703849  ]? (1 for Yes, 0 for No):  0\n"
     ]
    },
    {
     "name": "stdout",
     "output_type": "stream",
     "text": [
      "5 6.833333333333333\n"
     ]
    },
    {
     "ename": "KeyboardInterrupt",
     "evalue": "Interrupted by user",
     "output_type": "error",
     "traceback": [
      "\u001b[0;31m---------------------------------------------------------------------------\u001b[0m",
      "\u001b[0;31mKeyboardInterrupt\u001b[0m                         Traceback (most recent call last)",
      "Cell \u001b[0;32mIn[112], line 4\u001b[0m\n\u001b[1;32m      2\u001b[0m \u001b[38;5;28;01mfor\u001b[39;00m episode \u001b[38;5;129;01min\u001b[39;00m \u001b[38;5;28mrange\u001b[39m(\u001b[38;5;241m2000\u001b[39m):\n\u001b[1;32m      3\u001b[0m     \u001b[38;5;28;01mwith\u001b[39;00m tf\u001b[38;5;241m.\u001b[39mGradientTape() \u001b[38;5;28;01mas\u001b[39;00m tape:\n\u001b[0;32m----> 4\u001b[0m         action_probs, episode_rewards \u001b[38;5;241m=\u001b[39m \u001b[43mstep_episode\u001b[49m\u001b[43m(\u001b[49m\u001b[43menv\u001b[49m\u001b[43m,\u001b[49m\u001b[43m \u001b[49m\u001b[43mmodel\u001b[49m\u001b[43m)\u001b[49m\n\u001b[1;32m      5\u001b[0m         loss \u001b[38;5;241m=\u001b[39m complete_loss(action_probs, episode_rewards)\n\u001b[1;32m      6\u001b[0m         grads \u001b[38;5;241m=\u001b[39m tape\u001b[38;5;241m.\u001b[39mgradient(loss, model\u001b[38;5;241m.\u001b[39mtrainable_variables)\n",
      "Cell \u001b[0;32mIn[107], line 29\u001b[0m, in \u001b[0;36mstep_episode\u001b[0;34m(env, model)\u001b[0m\n\u001b[1;32m     27\u001b[0m     rewards\u001b[38;5;241m.\u001b[39mappend(reward)\n\u001b[1;32m     28\u001b[0m     obs \u001b[38;5;241m=\u001b[39m tf\u001b[38;5;241m.\u001b[39mexpand_dims(new_obs, \u001b[38;5;241m0\u001b[39m)\n\u001b[0;32m---> 29\u001b[0m human_preference_reward \u001b[38;5;241m=\u001b[39m \u001b[43mask_human_preference\u001b[49m\u001b[43m(\u001b[49m\u001b[43mobs\u001b[49m\u001b[38;5;241;43m.\u001b[39;49m\u001b[43mnumpy\u001b[49m\u001b[43m(\u001b[49m\u001b[43m)\u001b[49m\u001b[43m,\u001b[49m\u001b[43m \u001b[49m\u001b[43maction\u001b[49m\u001b[43m,\u001b[49m\u001b[43m \u001b[49m\u001b[43mnew_obs\u001b[49m\u001b[43m)\u001b[49m\n\u001b[1;32m     30\u001b[0m rewards[\u001b[38;5;241m-\u001b[39m\u001b[38;5;241m1\u001b[39m]\u001b[38;5;241m=\u001b[39mhuman_preference_reward\n\u001b[1;32m     31\u001b[0m env\u001b[38;5;241m.\u001b[39mclose()\n",
      "Cell \u001b[0;32mIn[106], line 6\u001b[0m, in \u001b[0;36mask_human_preference\u001b[0;34m(state, action, next_state)\u001b[0m\n\u001b[1;32m      1\u001b[0m \u001b[38;5;28;01mdef\u001b[39;00m \u001b[38;5;21mask_human_preference\u001b[39m(state, action, next_state):\n\u001b[1;32m      2\u001b[0m     \u001b[38;5;124;03m\"\"\"\u001b[39;00m\n\u001b[1;32m      3\u001b[0m \u001b[38;5;124;03m    Asks the human for their preference between the current action and a random alternative action.\u001b[39;00m\n\u001b[1;32m      4\u001b[0m \u001b[38;5;124;03m    Returns the reward based on the human's preference.\u001b[39;00m\n\u001b[1;32m      5\u001b[0m \u001b[38;5;124;03m    \"\"\"\u001b[39;00m\n\u001b[0;32m----> 6\u001b[0m     current_reward \u001b[38;5;241m=\u001b[39m \u001b[38;5;28mint\u001b[39m(\u001b[38;5;28;43minput\u001b[39;49m\u001b[43m(\u001b[49m\u001b[38;5;124;43mf\u001b[39;49m\u001b[38;5;124;43m\"\u001b[39;49m\u001b[38;5;124;43mDo you prefer action \u001b[39;49m\u001b[38;5;132;43;01m{\u001b[39;49;00m\u001b[43maction\u001b[49m\u001b[38;5;132;43;01m}\u001b[39;49;00m\u001b[38;5;124;43m leading to \u001b[39;49m\u001b[38;5;132;43;01m{\u001b[39;49;00m\u001b[43mnext_state\u001b[49m\u001b[38;5;132;43;01m}\u001b[39;49;00m\u001b[38;5;124;43m over a random action? (1 for Yes, 0 for No): \u001b[39;49m\u001b[38;5;124;43m\"\u001b[39;49m\u001b[43m)\u001b[49m)\n\u001b[1;32m      7\u001b[0m     random_action \u001b[38;5;241m=\u001b[39m random\u001b[38;5;241m.\u001b[39mchoice([a \u001b[38;5;28;01mfor\u001b[39;00m a \u001b[38;5;129;01min\u001b[39;00m \u001b[38;5;28mrange\u001b[39m(env\u001b[38;5;241m.\u001b[39maction_space\u001b[38;5;241m.\u001b[39mn) \u001b[38;5;28;01mif\u001b[39;00m a \u001b[38;5;241m!=\u001b[39m action])\n\u001b[1;32m      8\u001b[0m     random_next_state \u001b[38;5;241m=\u001b[39m env\u001b[38;5;241m.\u001b[39mstep(random_action)[\u001b[38;5;241m0\u001b[39m]\n",
      "File \u001b[0;32m~/opt/anaconda3/lib/python3.9/site-packages/ipykernel/kernelbase.py:1006\u001b[0m, in \u001b[0;36mKernel.raw_input\u001b[0;34m(self, prompt)\u001b[0m\n\u001b[1;32m   1002\u001b[0m \u001b[38;5;28;01mif\u001b[39;00m \u001b[38;5;129;01mnot\u001b[39;00m \u001b[38;5;28mself\u001b[39m\u001b[38;5;241m.\u001b[39m_allow_stdin:\n\u001b[1;32m   1003\u001b[0m     \u001b[38;5;28;01mraise\u001b[39;00m StdinNotImplementedError(\n\u001b[1;32m   1004\u001b[0m         \u001b[38;5;124m\"\u001b[39m\u001b[38;5;124mraw_input was called, but this frontend does not support input requests.\u001b[39m\u001b[38;5;124m\"\u001b[39m\n\u001b[1;32m   1005\u001b[0m     )\n\u001b[0;32m-> 1006\u001b[0m \u001b[38;5;28;01mreturn\u001b[39;00m \u001b[38;5;28;43mself\u001b[39;49m\u001b[38;5;241;43m.\u001b[39;49m\u001b[43m_input_request\u001b[49m\u001b[43m(\u001b[49m\n\u001b[1;32m   1007\u001b[0m \u001b[43m    \u001b[49m\u001b[38;5;28;43mstr\u001b[39;49m\u001b[43m(\u001b[49m\u001b[43mprompt\u001b[49m\u001b[43m)\u001b[49m\u001b[43m,\u001b[49m\n\u001b[1;32m   1008\u001b[0m \u001b[43m    \u001b[49m\u001b[38;5;28;43mself\u001b[39;49m\u001b[38;5;241;43m.\u001b[39;49m\u001b[43m_parent_ident\u001b[49m\u001b[43m[\u001b[49m\u001b[38;5;124;43m\"\u001b[39;49m\u001b[38;5;124;43mshell\u001b[39;49m\u001b[38;5;124;43m\"\u001b[39;49m\u001b[43m]\u001b[49m\u001b[43m,\u001b[49m\n\u001b[1;32m   1009\u001b[0m \u001b[43m    \u001b[49m\u001b[38;5;28;43mself\u001b[39;49m\u001b[38;5;241;43m.\u001b[39;49m\u001b[43mget_parent\u001b[49m\u001b[43m(\u001b[49m\u001b[38;5;124;43m\"\u001b[39;49m\u001b[38;5;124;43mshell\u001b[39;49m\u001b[38;5;124;43m\"\u001b[39;49m\u001b[43m)\u001b[49m\u001b[43m,\u001b[49m\n\u001b[1;32m   1010\u001b[0m \u001b[43m    \u001b[49m\u001b[43mpassword\u001b[49m\u001b[38;5;241;43m=\u001b[39;49m\u001b[38;5;28;43;01mFalse\u001b[39;49;00m\u001b[43m,\u001b[49m\n\u001b[1;32m   1011\u001b[0m \u001b[43m\u001b[49m\u001b[43m)\u001b[49m\n",
      "File \u001b[0;32m~/opt/anaconda3/lib/python3.9/site-packages/ipykernel/kernelbase.py:1051\u001b[0m, in \u001b[0;36mKernel._input_request\u001b[0;34m(self, prompt, ident, parent, password)\u001b[0m\n\u001b[1;32m   1048\u001b[0m             \u001b[38;5;28;01mbreak\u001b[39;00m\n\u001b[1;32m   1049\u001b[0m \u001b[38;5;28;01mexcept\u001b[39;00m \u001b[38;5;167;01mKeyboardInterrupt\u001b[39;00m:\n\u001b[1;32m   1050\u001b[0m     \u001b[38;5;66;03m# re-raise KeyboardInterrupt, to truncate traceback\u001b[39;00m\n\u001b[0;32m-> 1051\u001b[0m     \u001b[38;5;28;01mraise\u001b[39;00m \u001b[38;5;167;01mKeyboardInterrupt\u001b[39;00m(\u001b[38;5;124m\"\u001b[39m\u001b[38;5;124mInterrupted by user\u001b[39m\u001b[38;5;124m\"\u001b[39m) \u001b[38;5;28;01mfrom\u001b[39;00m \u001b[38;5;28mNone\u001b[39m\n\u001b[1;32m   1052\u001b[0m \u001b[38;5;28;01mexcept\u001b[39;00m \u001b[38;5;167;01mException\u001b[39;00m:\n\u001b[1;32m   1053\u001b[0m     \u001b[38;5;28mself\u001b[39m\u001b[38;5;241m.\u001b[39mlog\u001b[38;5;241m.\u001b[39mwarning(\u001b[38;5;124m\"\u001b[39m\u001b[38;5;124mInvalid Message:\u001b[39m\u001b[38;5;124m\"\u001b[39m, exc_info\u001b[38;5;241m=\u001b[39m\u001b[38;5;28;01mTrue\u001b[39;00m)\n",
      "\u001b[0;31mKeyboardInterrupt\u001b[0m: Interrupted by user"
     ]
    }
   ],
   "source": [
    "average_reward = []\n",
    "for episode in range(2000):\n",
    "    with tf.GradientTape() as tape:\n",
    "        action_probs, episode_rewards = step_episode(env, model)\n",
    "        loss = complete_loss(action_probs, episode_rewards)\n",
    "        grads = tape.gradient(loss, model.trainable_variables)\n",
    "        optimizer.apply_gradients(zip(grads, model.trainable_variables))\n",
    "        average_reward.append(sum(episode_rewards)) # adds episode average reward\n",
    "        \n",
    "        if episode % 5 == 0:\n",
    "            print(episode, np.mean(average_reward[-25:]))\n",
    "    if np.mean(average_reward[-20:]) > 175:\n",
    "        break"
   ]
  },
  {
   "cell_type": "markdown",
   "id": "8c8d36e0-4e46-4497-8ce7-ad09fc43634c",
   "metadata": {},
   "source": [
    "This code implements the training loop for an actor-critic reinforcement learning agent. The training occurs over 2000 episodes or until the average reward over the last 20 episodes is greater than 175.\n",
    "\n",
    "For each episode:\n",
    "\n",
    "- The **step_episode** function is called to generate a set of action probabilities and episode rewards.\n",
    "- The **complete_loss** function is called to calculate the total loss for the episode, including both the actor loss and the critic loss.\n",
    "- The gradient of the loss with respect to the model's trainable variables is computed with **tape.gradient**.\n",
    "- The optimizer is then used to update the model's parameters.\n",
    "- The episode average reward is added to a list **average_reward**.\n",
    "\n",
    "If the episode number is divisible by 20, the mean of the last 25 average rewards is printed. If the mean average reward over the last 20 episodes is greater than 175, the training loop terminates."
   ]
  },
  {
   "cell_type": "code",
   "execution_count": null,
   "id": "02eb0c97-c118-4888-ab95-9e3d1e242acd",
   "metadata": {},
   "outputs": [],
   "source": []
  },
  {
   "cell_type": "code",
   "execution_count": null,
   "id": "fa132edb-7d66-438f-9bc4-873c8f9e1ff2",
   "metadata": {},
   "outputs": [],
   "source": []
  },
  {
   "cell_type": "markdown",
   "id": "f64e21e1-5164-48e7-b377-5b729a0b4c59",
   "metadata": {},
   "source": [
    "# 2. Without Human Preferences"
   ]
  },
  {
   "cell_type": "code",
   "execution_count": 113,
   "id": "0391f102-8a85-4ff8-90d3-7c3bf0ca1a6f",
   "metadata": {},
   "outputs": [],
   "source": [
    "def step_episode_originel(env, model):\n",
    "    obs = env.reset()[0]\n",
    "    action_probs_list = []\n",
    "    rewards = []\n",
    "    done = False\n",
    "    \n",
    "    while True:\n",
    "        if done:\n",
    "            break\n",
    "        obs = tf.expand_dims(obs, 0)\n",
    "        # run model to get action logits and value\n",
    "        action_logits = model(obs)\n",
    "        # categorical probabilistic action idx selection\n",
    "        discrete_distribution = tfp.distributions.Categorical(action_logits)\n",
    "        selection_action_idx = discrete_distribution.sample()\n",
    "        \n",
    "        action = selection_action_idx.numpy()[0]\n",
    "        \n",
    "        obs = env.step(action)[0]\n",
    "        reward = env.step(action)[1]\n",
    "        done = env.step(action)[2]\n",
    "        \n",
    "        action_probs = discrete_distribution.prob(selection_action_idx)\n",
    "        action_probs_list.append(action_probs)\n",
    "        rewards.append(reward)\n",
    "    env.close()\n",
    "    return action_probs_list, rewards, obs, action"
   ]
  },
  {
   "cell_type": "code",
   "execution_count": 114,
   "id": "2e1ab075-9fdb-47cb-9e85-c0991c778cde",
   "metadata": {
    "tags": []
   },
   "outputs": [
    {
     "name": "stdout",
     "output_type": "stream",
     "text": [
      "0 3.0\n",
      "50 5.2\n",
      "100 6.16\n",
      "150 5.72\n",
      "200 5.0\n",
      "250 8.12\n",
      "300 10.72\n",
      "350 14.4\n",
      "400 8.92\n",
      "450 10.88\n",
      "500 14.84\n",
      "550 11.28\n",
      "600 20.48\n",
      "650 22.24\n",
      "700 25.88\n",
      "750 37.2\n",
      "800 31.64\n",
      "850 35.68\n",
      "900 32.12\n",
      "950 40.04\n",
      "1000 45.68\n",
      "1050 55.4\n",
      "1100 61.76\n",
      "1150 53.52\n",
      "1200 40.6\n",
      "1250 72.24\n",
      "1300 60.52\n",
      "1350 83.76\n",
      "1400 85.32\n",
      "1450 73.2\n",
      "1500 90.24\n",
      "1550 92.08\n",
      "1600 86.32\n",
      "1650 122.0\n"
     ]
    }
   ],
   "source": [
    "average_reward = []\n",
    "for episode in range(2000):\n",
    "    with tf.GradientTape() as tape:\n",
    "        action_probs, episode_rewards, obs, action = step_episode_originel(env, model)\n",
    "        loss = complete_loss(action_probs, episode_rewards)\n",
    "        grads = tape.gradient(loss, model.trainable_variables)\n",
    "        optimizer.apply_gradients(zip(grads, model.trainable_variables))\n",
    "        average_reward.append(sum(episode_rewards)) # adds episode average reward\n",
    "        \n",
    "        if episode % 50 == 0:\n",
    "            print(episode, np.mean(average_reward[-25:]))\n",
    "    if np.mean(average_reward[-20:]) > 175:\n",
    "        break"
   ]
  },
  {
   "cell_type": "code",
   "execution_count": 127,
   "id": "7ea69ee3-a985-4fc6-8495-bca6dd753457",
   "metadata": {},
   "outputs": [],
   "source": [
    "s = pd.Series(average_reward)\n",
    "\n",
    "# create a rolling window of size 20 and calculate the mean\n",
    "rolling_mean = s.rolling(window=20, min_periods=1).mean()"
   ]
  },
  {
   "cell_type": "code",
   "execution_count": 134,
   "id": "e2f78e8a-2923-4cac-8e13-fd481cd3a7a4",
   "metadata": {},
   "outputs": [
    {
     "data": {
      "image/png": "[encoded data removed]",
      "text/plain": [
       "<Figure size 432x288 with 1 Axes>"
      ]
     },
     "metadata": {
      "needs_background": "light"
     },
     "output_type": "display_data"
    }
   ],
   "source": [
    "plt.plot(rolling_mean)\n",
    "plt.title('Test of the model over 2000 episodes')\n",
    "plt.xlabel('Episodes')\n",
    "plt.ylabel('Rewards')\n",
    "plt.savefig(\"final_plot.png\")"
   ]
  },
  {
   "cell_type": "markdown",
   "id": "1d3a93b0-aec5-42b4-85fd-5b73592c8601",
   "metadata": {},
   "source": [
    "# 3. With Human Preferences and fitting the Reward function"
   ]
  },
  {
   "cell_type": "code",
   "execution_count": 80,
   "id": "1b8c72c0-e7ce-4e56-82e3-7694f02bf154",
   "metadata": {},
   "outputs": [],
   "source": [
    "class Rewarder(tf.keras.Model): # Reward function\n",
    "    def __init__(self, num_hidden_units):\n",
    "        super().__init__()\n",
    "        \n",
    "        self.shared_1 = layers.Dense(num_hidden_units, activation = 'relu')\n",
    "        self.reward = layers.Dense(1)\n",
    "        \n",
    "    def call(self, input_obs):\n",
    "        x = self.shared_1(input_obs)\n",
    "        return self.reward(x)"
   ]
  },
  {
   "cell_type": "markdown",
   "id": "5e776c72-039e-466d-9560-6e8afe129800",
   "metadata": {},
   "source": [
    "This code defines a class called **Rewarder** that inherits from **tf.keras.Model**, which means it is a TensorFlow Keras model. The purpose of this model is to calculate a reward value based on the input observations provided to it.\n",
    "\n",
    "The **__init__** method of the **Rewarder** class takes one parameter **num_hidden_units**, which specifies the number of hidden units to be used in the first layer of the model. Inside this method, two layers are defined: **self.shared_1** and **self.reward**.\n",
    "\n",
    "The first layer **self.shared_1** is an instance of the **Dense** class from the **layers** module of TensorFlow Keras. This layer has **num_hidden_units** hidden units and uses the rectified linear unit (ReLU) activation function.\n",
    "\n",
    "The second layer **self.reward** is another instance of the **Dense** class, but with only one output unit, which represents the predicted reward value.\n",
    "\n",
    "The **call** method of the **Rewarder** class is the method that is called when the model is run with input data. This method takes an input tensor **input_obs** as its argument and passes it through the first layer **self.shared_1** to produce an intermediate tensor **x**. The intermediate tensor **x** is then passed through the second layer **self.reward** to produce the final output tensor, which is the predicted reward value.\n",
    "\n",
    "Overall, this code defines a simple neural network model that takes an input tensor and produces a single output value that represents the predicted reward."
   ]
  },
  {
   "cell_type": "code",
   "execution_count": 81,
   "id": "814d1f72-dbfc-4986-9955-f2945036d880",
   "metadata": {},
   "outputs": [],
   "source": [
    "rewarder = Rewarder(num_hidden_units=128)"
   ]
  },
  {
   "cell_type": "code",
   "execution_count": 82,
   "id": "6a40178f-699a-49e5-b29f-4591d9c8b9af",
   "metadata": {},
   "outputs": [],
   "source": [
    "#############################################################\n",
    "def step_episode_2(env, model):\n",
    "    env.reset()\n",
    "    action_probs_list = []\n",
    "    rewards = []\n",
    "    states = []\n",
    "    actions = []\n",
    "    done = False\n",
    "    \n",
    "    while True:\n",
    "        if done:\n",
    "            break\n",
    "        obs = tf.expand_dims(env.state, 0)\n",
    "        # run model to get action logits and value\n",
    "        action_logits = model(obs)\n",
    "        # categorical probabilistic action idx selection\n",
    "        #discrete_distribution = tfp.distributions.Categorical(action_logits)\n",
    "        #selection_action_idx = discrete_distribution.sample()\n",
    "        #selected_action_idx = tf.random.categorical(action_logits, 1)[0, 0]\n",
    "        # categorical probabilistic action idx selection\n",
    "        discrete_distribution = tfp.distributions.Categorical(action_logits)\n",
    "        selection_action_idx = discrete_distribution.sample()\n",
    "        \n",
    "        states.append(obs)\n",
    "        actions.append(int(selection_action_idx.numpy()[0]))\n",
    "        \n",
    "        #reward, playing = env.step(selected_action_idx)\n",
    "        \n",
    "        action = int(selection_action_idx.numpy()[0])\n",
    "        obs = env.step(action)[0]\n",
    "        reward = env.step(action)[1]\n",
    "        done = env.step(action)[2]\n",
    "        \n",
    "\n",
    "        action_probs = discrete_distribution.prob(selection_action_idx)\n",
    "        action_probs_list.append(action_probs)\n",
    "        #action_probs = discrete_distribution.prob(selection_action_idx)\n",
    "        #action_probs_list.append(probability_of_taking_selected_action)\n",
    "        rewards.append(reward)\n",
    "    return action_probs_list, rewards, states, actions"
   ]
  },
  {
   "cell_type": "code",
   "execution_count": 97,
   "id": "9570ecf6-b377-4663-bc11-9f0e426e63f1",
   "metadata": {},
   "outputs": [],
   "source": [
    "def preference_update(states, actions, rewarder):\n",
    "    transition_ids = random.sample(range(0, len(states)-2), 2)\n",
    "    pref = input('selected preference a:left, d:right, s:same')\n",
    "    if pref == 'a':\n",
    "        dist = [1,0]\n",
    "    if pref == 'd':\n",
    "        dist = [0,1]\n",
    "    if pref == 's':\n",
    "        dist = [1,1]\n",
    "    \n",
    "    with tf.GradientTape() as tape:\n",
    "        reward1 = rewarder(states[transition_ids[0]+1])\n",
    "        reward2 = rewarder(states[transition_ids[1]+1])\n",
    "        p1 = tf.exp(reward1) / tf.exp(reward1) + tf.exp(reward2)\n",
    "        p2 = tf.exp(reward2) / tf.exp(reward1) + tf.exp(reward2)\n",
    "        loss = -tf.math.log(p1)*dist[0] + tf.math.log(p2)*dist[1]\n",
    "    grads = tape.gradient(loss, rewarder.trainable_variables)\n",
    "    #print('\\n',len(grads),grads[0], grads[1].shape, grads[2].shape, grads[3].shape)\n",
    "    #print('\\n',len(rewarder.trainable_variables),rewarder.trainable_variables[0],rewarder.trainable_variables[1].shape,rewarder.trainable_variables[2].shape,rewarder.trainable_variables[3].shape)\n",
    "    optimizer.apply_gradients(zip(grads, rewarder.trainable_variables))"
   ]
  },
  {
   "cell_type": "markdown",
   "id": "a3d57016-f96e-4c78-8c43-91ecceda6952",
   "metadata": {},
   "source": [
    "The **preference_update** function takes three arguments: **states**, **actions**, and **rewarder**. This function updates the reward function **rewarder** based on user preferences between two randomly sampled state-action transitions.\n",
    "\n",
    "The function first randomly selects two state-action transitions from the provided **states** and **actions** arrays using the **random.sample** function. It then prompts the user to select a preference between the two transitions, with 'a' representing a preference for the left transition, 'd' representing a preference for the right transition, and 's' representing no preference.\n",
    "\n",
    "Based on the user's preference, the function creates a **dist** list with two elements representing the desired distribution of the reward probabilities for the two transitions.\n",
    "\n",
    "The function then uses TensorFlow's **GradientTape** context to compute the gradients of the loss with respect to the trainable variables in the **rewarder** model. The loss is defined based on the user's preference and the predicted reward values of the two state-action transitions. The loss is then used to compute the gradients, which are used to update the **rewarder** model using the provided **optimizer**.\n",
    "\n",
    "Overall, this code is used to update a reward function based on user preferences, with the goal of improving the performance of a reinforcement learning algorithm."
   ]
  },
  {
   "cell_type": "code",
   "execution_count": 98,
   "id": "08fc55e8-3909-4319-bf0b-060dedb5c656",
   "metadata": {
    "tags": []
   },
   "outputs": [
    {
     "name": "stdin",
     "output_type": "stream",
     "text": [
      "selected preference a:left, d:right, s:same a\n"
     ]
    },
    {
     "ename": "KeyError",
     "evalue": "'The optimizer cannot recognize variable rewarder_1/dense_6/kernel:0. This usually means you are trying to call the optimizer to update different parts of the model separately. Please call `optimizer.build(variables)` with the full list of trainable variables before the training loop or use legacy optimizer `tf.keras.optimizers.legacy.{self.__class__.__name__}.'",
     "output_type": "error",
     "traceback": [
      "\u001b[0;31m---------------------------------------------------------------------------\u001b[0m",
      "\u001b[0;31mKeyError\u001b[0m                                  Traceback (most recent call last)",
      "Cell \u001b[0;32mIn[98], line 10\u001b[0m\n\u001b[1;32m      7\u001b[0m optimizer\u001b[38;5;241m.\u001b[39mapply_gradients(\u001b[38;5;28mzip\u001b[39m(grads, model\u001b[38;5;241m.\u001b[39mtrainable_variables))\n\u001b[1;32m      8\u001b[0m average_len\u001b[38;5;241m.\u001b[39mappend(\u001b[38;5;28mlen\u001b[39m(rewards)) \u001b[38;5;66;03m# adds episode average reward\u001b[39;00m\n\u001b[0;32m---> 10\u001b[0m \u001b[43mpreference_update\u001b[49m\u001b[43m(\u001b[49m\u001b[43mstates\u001b[49m\u001b[43m,\u001b[49m\u001b[43m \u001b[49m\u001b[43mactions\u001b[49m\u001b[43m,\u001b[49m\u001b[43m \u001b[49m\u001b[43mrewarder\u001b[49m\u001b[43m)\u001b[49m\n\u001b[1;32m     12\u001b[0m \u001b[38;5;28mprint\u001b[39m(\u001b[38;5;124m'\u001b[39m\u001b[38;5;124mEpisode\u001b[39m\u001b[38;5;124m'\u001b[39m, episode)\n\u001b[1;32m     14\u001b[0m \u001b[38;5;28mprint\u001b[39m(\u001b[38;5;124m'\u001b[39m\u001b[38;5;124mAverage steps to target\u001b[39m\u001b[38;5;124m'\u001b[39m, np\u001b[38;5;241m.\u001b[39mmean(average_len[\u001b[38;5;241m-\u001b[39m\u001b[38;5;241m100\u001b[39m:]))\n",
      "Cell \u001b[0;32mIn[97], line 20\u001b[0m, in \u001b[0;36mpreference_update\u001b[0;34m(states, actions, rewarder)\u001b[0m\n\u001b[1;32m     17\u001b[0m grads \u001b[38;5;241m=\u001b[39m tape\u001b[38;5;241m.\u001b[39mgradient(loss, rewarder\u001b[38;5;241m.\u001b[39mtrainable_variables)\n\u001b[1;32m     18\u001b[0m \u001b[38;5;66;03m#print('\\n',len(grads),grads[0], grads[1].shape, grads[2].shape, grads[3].shape)\u001b[39;00m\n\u001b[1;32m     19\u001b[0m \u001b[38;5;66;03m#print('\\n',len(rewarder.trainable_variables),rewarder.trainable_variables[0],rewarder.trainable_variables[1].shape,rewarder.trainable_variables[2].shape,rewarder.trainable_variables[3].shape)\u001b[39;00m\n\u001b[0;32m---> 20\u001b[0m \u001b[43moptimizer\u001b[49m\u001b[38;5;241;43m.\u001b[39;49m\u001b[43mapply_gradients\u001b[49m\u001b[43m(\u001b[49m\u001b[38;5;28;43mzip\u001b[39;49m\u001b[43m(\u001b[49m\u001b[43mgrads\u001b[49m\u001b[43m,\u001b[49m\u001b[43m \u001b[49m\u001b[43mrewarder\u001b[49m\u001b[38;5;241;43m.\u001b[39;49m\u001b[43mtrainable_variables\u001b[49m\u001b[43m)\u001b[49m\u001b[43m)\u001b[49m\n",
      "File \u001b[0;32m~/opt/anaconda3/lib/python3.9/site-packages/keras/optimizers/optimizer_experimental/optimizer.py:1140\u001b[0m, in \u001b[0;36mOptimizer.apply_gradients\u001b[0;34m(self, grads_and_vars, name, skip_gradients_aggregation, **kwargs)\u001b[0m\n\u001b[1;32m   1138\u001b[0m \u001b[38;5;28;01mif\u001b[39;00m \u001b[38;5;129;01mnot\u001b[39;00m skip_gradients_aggregation \u001b[38;5;129;01mand\u001b[39;00m experimental_aggregate_gradients:\n\u001b[1;32m   1139\u001b[0m     grads_and_vars \u001b[38;5;241m=\u001b[39m \u001b[38;5;28mself\u001b[39m\u001b[38;5;241m.\u001b[39maggregate_gradients(grads_and_vars)\n\u001b[0;32m-> 1140\u001b[0m \u001b[38;5;28;01mreturn\u001b[39;00m \u001b[38;5;28;43msuper\u001b[39;49m\u001b[43m(\u001b[49m\u001b[43m)\u001b[49m\u001b[38;5;241;43m.\u001b[39;49m\u001b[43mapply_gradients\u001b[49m\u001b[43m(\u001b[49m\u001b[43mgrads_and_vars\u001b[49m\u001b[43m,\u001b[49m\u001b[43m \u001b[49m\u001b[43mname\u001b[49m\u001b[38;5;241;43m=\u001b[39;49m\u001b[43mname\u001b[49m\u001b[43m)\u001b[49m\n",
      "File \u001b[0;32m~/opt/anaconda3/lib/python3.9/site-packages/keras/optimizers/optimizer_experimental/optimizer.py:634\u001b[0m, in \u001b[0;36m_BaseOptimizer.apply_gradients\u001b[0;34m(self, grads_and_vars, name)\u001b[0m\n\u001b[1;32m    632\u001b[0m \u001b[38;5;28mself\u001b[39m\u001b[38;5;241m.\u001b[39m_apply_weight_decay(trainable_variables)\n\u001b[1;32m    633\u001b[0m grads_and_vars \u001b[38;5;241m=\u001b[39m \u001b[38;5;28mlist\u001b[39m(\u001b[38;5;28mzip\u001b[39m(grads, trainable_variables))\n\u001b[0;32m--> 634\u001b[0m iteration \u001b[38;5;241m=\u001b[39m \u001b[38;5;28;43mself\u001b[39;49m\u001b[38;5;241;43m.\u001b[39;49m\u001b[43m_internal_apply_gradients\u001b[49m\u001b[43m(\u001b[49m\u001b[43mgrads_and_vars\u001b[49m\u001b[43m)\u001b[49m\n\u001b[1;32m    636\u001b[0m \u001b[38;5;66;03m# Apply variable constraints after applying gradients.\u001b[39;00m\n\u001b[1;32m    637\u001b[0m \u001b[38;5;28;01mfor\u001b[39;00m variable \u001b[38;5;129;01min\u001b[39;00m trainable_variables:\n",
      "File \u001b[0;32m~/opt/anaconda3/lib/python3.9/site-packages/keras/optimizers/optimizer_experimental/optimizer.py:1166\u001b[0m, in \u001b[0;36mOptimizer._internal_apply_gradients\u001b[0;34m(self, grads_and_vars)\u001b[0m\n\u001b[1;32m   1165\u001b[0m \u001b[38;5;28;01mdef\u001b[39;00m \u001b[38;5;21m_internal_apply_gradients\u001b[39m(\u001b[38;5;28mself\u001b[39m, grads_and_vars):\n\u001b[0;32m-> 1166\u001b[0m     \u001b[38;5;28;01mreturn\u001b[39;00m \u001b[43mtf\u001b[49m\u001b[38;5;241;43m.\u001b[39;49m\u001b[43m__internal__\u001b[49m\u001b[38;5;241;43m.\u001b[39;49m\u001b[43mdistribute\u001b[49m\u001b[38;5;241;43m.\u001b[39;49m\u001b[43minterim\u001b[49m\u001b[38;5;241;43m.\u001b[39;49m\u001b[43mmaybe_merge_call\u001b[49m\u001b[43m(\u001b[49m\n\u001b[1;32m   1167\u001b[0m \u001b[43m        \u001b[49m\u001b[38;5;28;43mself\u001b[39;49m\u001b[38;5;241;43m.\u001b[39;49m\u001b[43m_distributed_apply_gradients_fn\u001b[49m\u001b[43m,\u001b[49m\n\u001b[1;32m   1168\u001b[0m \u001b[43m        \u001b[49m\u001b[38;5;28;43mself\u001b[39;49m\u001b[38;5;241;43m.\u001b[39;49m\u001b[43m_distribution_strategy\u001b[49m\u001b[43m,\u001b[49m\n\u001b[1;32m   1169\u001b[0m \u001b[43m        \u001b[49m\u001b[43mgrads_and_vars\u001b[49m\u001b[43m,\u001b[49m\n\u001b[1;32m   1170\u001b[0m \u001b[43m    \u001b[49m\u001b[43m)\u001b[49m\n",
      "File \u001b[0;32m~/opt/anaconda3/lib/python3.9/site-packages/tensorflow/python/distribute/merge_call_interim.py:51\u001b[0m, in \u001b[0;36mmaybe_merge_call\u001b[0;34m(fn, strategy, *args, **kwargs)\u001b[0m\n\u001b[1;32m     31\u001b[0m \u001b[38;5;124;03m\"\"\"Maybe invoke `fn` via `merge_call` which may or may not be fulfilled.\u001b[39;00m\n\u001b[1;32m     32\u001b[0m \n\u001b[1;32m     33\u001b[0m \u001b[38;5;124;03mThe caller of this utility function requests to invoke `fn` via `merge_call`\u001b[39;00m\n\u001b[0;32m   (...)\u001b[0m\n\u001b[1;32m     48\u001b[0m \u001b[38;5;124;03m  The return value of the `fn` call.\u001b[39;00m\n\u001b[1;32m     49\u001b[0m \u001b[38;5;124;03m\"\"\"\u001b[39;00m\n\u001b[1;32m     50\u001b[0m \u001b[38;5;28;01mif\u001b[39;00m strategy_supports_no_merge_call():\n\u001b[0;32m---> 51\u001b[0m   \u001b[38;5;28;01mreturn\u001b[39;00m \u001b[43mfn\u001b[49m\u001b[43m(\u001b[49m\u001b[43mstrategy\u001b[49m\u001b[43m,\u001b[49m\u001b[43m \u001b[49m\u001b[38;5;241;43m*\u001b[39;49m\u001b[43margs\u001b[49m\u001b[43m,\u001b[49m\u001b[43m \u001b[49m\u001b[38;5;241;43m*\u001b[39;49m\u001b[38;5;241;43m*\u001b[39;49m\u001b[43mkwargs\u001b[49m\u001b[43m)\u001b[49m\n\u001b[1;32m     52\u001b[0m \u001b[38;5;28;01melse\u001b[39;00m:\n\u001b[1;32m     53\u001b[0m   \u001b[38;5;28;01mreturn\u001b[39;00m distribution_strategy_context\u001b[38;5;241m.\u001b[39mget_replica_context()\u001b[38;5;241m.\u001b[39mmerge_call(\n\u001b[1;32m     54\u001b[0m       fn, args\u001b[38;5;241m=\u001b[39margs, kwargs\u001b[38;5;241m=\u001b[39mkwargs)\n",
      "File \u001b[0;32m~/opt/anaconda3/lib/python3.9/site-packages/keras/optimizers/optimizer_experimental/optimizer.py:1216\u001b[0m, in \u001b[0;36mOptimizer._distributed_apply_gradients_fn\u001b[0;34m(self, distribution, grads_and_vars, **kwargs)\u001b[0m\n\u001b[1;32m   1213\u001b[0m         \u001b[38;5;28;01mreturn\u001b[39;00m \u001b[38;5;28mself\u001b[39m\u001b[38;5;241m.\u001b[39m_update_step(grad, var)\n\u001b[1;32m   1215\u001b[0m \u001b[38;5;28;01mfor\u001b[39;00m grad, var \u001b[38;5;129;01min\u001b[39;00m grads_and_vars:\n\u001b[0;32m-> 1216\u001b[0m     \u001b[43mdistribution\u001b[49m\u001b[38;5;241;43m.\u001b[39;49m\u001b[43mextended\u001b[49m\u001b[38;5;241;43m.\u001b[39;49m\u001b[43mupdate\u001b[49m\u001b[43m(\u001b[49m\n\u001b[1;32m   1217\u001b[0m \u001b[43m        \u001b[49m\u001b[43mvar\u001b[49m\u001b[43m,\u001b[49m\u001b[43m \u001b[49m\u001b[43mapply_grad_to_update_var\u001b[49m\u001b[43m,\u001b[49m\u001b[43m \u001b[49m\u001b[43margs\u001b[49m\u001b[38;5;241;43m=\u001b[39;49m\u001b[43m(\u001b[49m\u001b[43mgrad\u001b[49m\u001b[43m,\u001b[49m\u001b[43m)\u001b[49m\u001b[43m,\u001b[49m\u001b[43m \u001b[49m\u001b[43mgroup\u001b[49m\u001b[38;5;241;43m=\u001b[39;49m\u001b[38;5;28;43;01mFalse\u001b[39;49;00m\n\u001b[1;32m   1218\u001b[0m \u001b[43m    \u001b[49m\u001b[43m)\u001b[49m\n\u001b[1;32m   1220\u001b[0m \u001b[38;5;28;01mif\u001b[39;00m \u001b[38;5;28mself\u001b[39m\u001b[38;5;241m.\u001b[39muse_ema:\n\u001b[1;32m   1221\u001b[0m     _, var_list \u001b[38;5;241m=\u001b[39m \u001b[38;5;28mzip\u001b[39m(\u001b[38;5;241m*\u001b[39mgrads_and_vars)\n",
      "File \u001b[0;32m~/opt/anaconda3/lib/python3.9/site-packages/tensorflow/python/distribute/distribute_lib.py:2637\u001b[0m, in \u001b[0;36mStrategyExtendedV2.update\u001b[0;34m(self, var, fn, args, kwargs, group)\u001b[0m\n\u001b[1;32m   2634\u001b[0m   fn \u001b[38;5;241m=\u001b[39m autograph\u001b[38;5;241m.\u001b[39mtf_convert(\n\u001b[1;32m   2635\u001b[0m       fn, autograph_ctx\u001b[38;5;241m.\u001b[39mcontrol_status_ctx(), convert_by_default\u001b[38;5;241m=\u001b[39m\u001b[38;5;28;01mFalse\u001b[39;00m)\n\u001b[1;32m   2636\u001b[0m   \u001b[38;5;28;01mwith\u001b[39;00m \u001b[38;5;28mself\u001b[39m\u001b[38;5;241m.\u001b[39m_container_strategy()\u001b[38;5;241m.\u001b[39mscope():\n\u001b[0;32m-> 2637\u001b[0m     \u001b[38;5;28;01mreturn\u001b[39;00m \u001b[38;5;28;43mself\u001b[39;49m\u001b[38;5;241;43m.\u001b[39;49m\u001b[43m_update\u001b[49m\u001b[43m(\u001b[49m\u001b[43mvar\u001b[49m\u001b[43m,\u001b[49m\u001b[43m \u001b[49m\u001b[43mfn\u001b[49m\u001b[43m,\u001b[49m\u001b[43m \u001b[49m\u001b[43margs\u001b[49m\u001b[43m,\u001b[49m\u001b[43m \u001b[49m\u001b[43mkwargs\u001b[49m\u001b[43m,\u001b[49m\u001b[43m \u001b[49m\u001b[43mgroup\u001b[49m\u001b[43m)\u001b[49m\n\u001b[1;32m   2638\u001b[0m \u001b[38;5;28;01melse\u001b[39;00m:\n\u001b[1;32m   2639\u001b[0m   \u001b[38;5;28;01mreturn\u001b[39;00m \u001b[38;5;28mself\u001b[39m\u001b[38;5;241m.\u001b[39m_replica_ctx_update(\n\u001b[1;32m   2640\u001b[0m       var, fn, args\u001b[38;5;241m=\u001b[39margs, kwargs\u001b[38;5;241m=\u001b[39mkwargs, group\u001b[38;5;241m=\u001b[39mgroup)\n",
      "File \u001b[0;32m~/opt/anaconda3/lib/python3.9/site-packages/tensorflow/python/distribute/distribute_lib.py:3710\u001b[0m, in \u001b[0;36m_DefaultDistributionExtended._update\u001b[0;34m(self, var, fn, args, kwargs, group)\u001b[0m\n\u001b[1;32m   3707\u001b[0m \u001b[38;5;28;01mdef\u001b[39;00m \u001b[38;5;21m_update\u001b[39m(\u001b[38;5;28mself\u001b[39m, var, fn, args, kwargs, group):\n\u001b[1;32m   3708\u001b[0m   \u001b[38;5;66;03m# The implementations of _update() and _update_non_slot() are identical\u001b[39;00m\n\u001b[1;32m   3709\u001b[0m   \u001b[38;5;66;03m# except _update() passes `var` as the first argument to `fn()`.\u001b[39;00m\n\u001b[0;32m-> 3710\u001b[0m   \u001b[38;5;28;01mreturn\u001b[39;00m \u001b[38;5;28;43mself\u001b[39;49m\u001b[38;5;241;43m.\u001b[39;49m\u001b[43m_update_non_slot\u001b[49m\u001b[43m(\u001b[49m\u001b[43mvar\u001b[49m\u001b[43m,\u001b[49m\u001b[43m \u001b[49m\u001b[43mfn\u001b[49m\u001b[43m,\u001b[49m\u001b[43m \u001b[49m\u001b[43m(\u001b[49m\u001b[43mvar\u001b[49m\u001b[43m,\u001b[49m\u001b[43m)\u001b[49m\u001b[43m \u001b[49m\u001b[38;5;241;43m+\u001b[39;49m\u001b[43m \u001b[49m\u001b[38;5;28;43mtuple\u001b[39;49m\u001b[43m(\u001b[49m\u001b[43margs\u001b[49m\u001b[43m)\u001b[49m\u001b[43m,\u001b[49m\u001b[43m \u001b[49m\u001b[43mkwargs\u001b[49m\u001b[43m,\u001b[49m\u001b[43m \u001b[49m\u001b[43mgroup\u001b[49m\u001b[43m)\u001b[49m\n",
      "File \u001b[0;32m~/opt/anaconda3/lib/python3.9/site-packages/tensorflow/python/distribute/distribute_lib.py:3716\u001b[0m, in \u001b[0;36m_DefaultDistributionExtended._update_non_slot\u001b[0;34m(self, colocate_with, fn, args, kwargs, should_group)\u001b[0m\n\u001b[1;32m   3712\u001b[0m \u001b[38;5;28;01mdef\u001b[39;00m \u001b[38;5;21m_update_non_slot\u001b[39m(\u001b[38;5;28mself\u001b[39m, colocate_with, fn, args, kwargs, should_group):\n\u001b[1;32m   3713\u001b[0m   \u001b[38;5;66;03m# TODO(josh11b): Figure out what we should be passing to UpdateContext()\u001b[39;00m\n\u001b[1;32m   3714\u001b[0m   \u001b[38;5;66;03m# once that value is used for something.\u001b[39;00m\n\u001b[1;32m   3715\u001b[0m   \u001b[38;5;28;01mwith\u001b[39;00m UpdateContext(colocate_with):\n\u001b[0;32m-> 3716\u001b[0m     result \u001b[38;5;241m=\u001b[39m \u001b[43mfn\u001b[49m\u001b[43m(\u001b[49m\u001b[38;5;241;43m*\u001b[39;49m\u001b[43margs\u001b[49m\u001b[43m,\u001b[49m\u001b[43m \u001b[49m\u001b[38;5;241;43m*\u001b[39;49m\u001b[38;5;241;43m*\u001b[39;49m\u001b[43mkwargs\u001b[49m\u001b[43m)\u001b[49m\n\u001b[1;32m   3717\u001b[0m     \u001b[38;5;28;01mif\u001b[39;00m should_group:\n\u001b[1;32m   3718\u001b[0m       \u001b[38;5;28;01mreturn\u001b[39;00m result\n",
      "File \u001b[0;32m~/opt/anaconda3/lib/python3.9/site-packages/tensorflow/python/autograph/impl/api.py:595\u001b[0m, in \u001b[0;36mcall_with_unspecified_conversion_status.<locals>.wrapper\u001b[0;34m(*args, **kwargs)\u001b[0m\n\u001b[1;32m    593\u001b[0m \u001b[38;5;28;01mdef\u001b[39;00m \u001b[38;5;21mwrapper\u001b[39m(\u001b[38;5;241m*\u001b[39margs, \u001b[38;5;241m*\u001b[39m\u001b[38;5;241m*\u001b[39mkwargs):\n\u001b[1;32m    594\u001b[0m   \u001b[38;5;28;01mwith\u001b[39;00m ag_ctx\u001b[38;5;241m.\u001b[39mControlStatusCtx(status\u001b[38;5;241m=\u001b[39mag_ctx\u001b[38;5;241m.\u001b[39mStatus\u001b[38;5;241m.\u001b[39mUNSPECIFIED):\n\u001b[0;32m--> 595\u001b[0m     \u001b[38;5;28;01mreturn\u001b[39;00m \u001b[43mfunc\u001b[49m\u001b[43m(\u001b[49m\u001b[38;5;241;43m*\u001b[39;49m\u001b[43margs\u001b[49m\u001b[43m,\u001b[49m\u001b[43m \u001b[49m\u001b[38;5;241;43m*\u001b[39;49m\u001b[38;5;241;43m*\u001b[39;49m\u001b[43mkwargs\u001b[49m\u001b[43m)\u001b[49m\n",
      "File \u001b[0;32m~/opt/anaconda3/lib/python3.9/site-packages/keras/optimizers/optimizer_experimental/optimizer.py:1213\u001b[0m, in \u001b[0;36mOptimizer._distributed_apply_gradients_fn.<locals>.apply_grad_to_update_var\u001b[0;34m(var, grad)\u001b[0m\n\u001b[1;32m   1211\u001b[0m     \u001b[38;5;28;01mreturn\u001b[39;00m \u001b[38;5;28mself\u001b[39m\u001b[38;5;241m.\u001b[39m_update_step_xla(grad, var, \u001b[38;5;28mid\u001b[39m(\u001b[38;5;28mself\u001b[39m\u001b[38;5;241m.\u001b[39m_var_key(var)))\n\u001b[1;32m   1212\u001b[0m \u001b[38;5;28;01melse\u001b[39;00m:\n\u001b[0;32m-> 1213\u001b[0m     \u001b[38;5;28;01mreturn\u001b[39;00m \u001b[38;5;28;43mself\u001b[39;49m\u001b[38;5;241;43m.\u001b[39;49m\u001b[43m_update_step\u001b[49m\u001b[43m(\u001b[49m\u001b[43mgrad\u001b[49m\u001b[43m,\u001b[49m\u001b[43m \u001b[49m\u001b[43mvar\u001b[49m\u001b[43m)\u001b[49m\n",
      "File \u001b[0;32m~/opt/anaconda3/lib/python3.9/site-packages/keras/optimizers/optimizer_experimental/optimizer.py:216\u001b[0m, in \u001b[0;36m_BaseOptimizer._update_step\u001b[0;34m(self, gradient, variable)\u001b[0m\n\u001b[1;32m    214\u001b[0m     \u001b[38;5;28;01mreturn\u001b[39;00m\n\u001b[1;32m    215\u001b[0m \u001b[38;5;28;01mif\u001b[39;00m \u001b[38;5;28mself\u001b[39m\u001b[38;5;241m.\u001b[39m_var_key(variable) \u001b[38;5;129;01mnot\u001b[39;00m \u001b[38;5;129;01min\u001b[39;00m \u001b[38;5;28mself\u001b[39m\u001b[38;5;241m.\u001b[39m_index_dict:\n\u001b[0;32m--> 216\u001b[0m     \u001b[38;5;28;01mraise\u001b[39;00m \u001b[38;5;167;01mKeyError\u001b[39;00m(\n\u001b[1;32m    217\u001b[0m         \u001b[38;5;124mf\u001b[39m\u001b[38;5;124m\"\u001b[39m\u001b[38;5;124mThe optimizer cannot recognize variable \u001b[39m\u001b[38;5;132;01m{\u001b[39;00mvariable\u001b[38;5;241m.\u001b[39mname\u001b[38;5;132;01m}\u001b[39;00m\u001b[38;5;124m. \u001b[39m\u001b[38;5;124m\"\u001b[39m\n\u001b[1;32m    218\u001b[0m         \u001b[38;5;124m\"\u001b[39m\u001b[38;5;124mThis usually means you are trying to call the optimizer to \u001b[39m\u001b[38;5;124m\"\u001b[39m\n\u001b[1;32m    219\u001b[0m         \u001b[38;5;124m\"\u001b[39m\u001b[38;5;124mupdate different parts of the model separately. Please call \u001b[39m\u001b[38;5;124m\"\u001b[39m\n\u001b[1;32m    220\u001b[0m         \u001b[38;5;124m\"\u001b[39m\u001b[38;5;124m`optimizer.build(variables)` with the full list of trainable \u001b[39m\u001b[38;5;124m\"\u001b[39m\n\u001b[1;32m    221\u001b[0m         \u001b[38;5;124m\"\u001b[39m\u001b[38;5;124mvariables before the training loop or use legacy optimizer \u001b[39m\u001b[38;5;124m\"\u001b[39m\n\u001b[1;32m    222\u001b[0m         \u001b[38;5;124m\"\u001b[39m\u001b[38;5;124m`tf.keras.optimizers.legacy.\u001b[39m\u001b[38;5;132;01m{self.__class__.__name__}\u001b[39;00m\u001b[38;5;124m.\u001b[39m\u001b[38;5;124m\"\u001b[39m\n\u001b[1;32m    223\u001b[0m     )\n\u001b[1;32m    224\u001b[0m \u001b[38;5;28mself\u001b[39m\u001b[38;5;241m.\u001b[39mupdate_step(gradient, variable)\n",
      "\u001b[0;31mKeyError\u001b[0m: 'The optimizer cannot recognize variable rewarder_1/dense_6/kernel:0. This usually means you are trying to call the optimizer to update different parts of the model separately. Please call `optimizer.build(variables)` with the full list of trainable variables before the training loop or use legacy optimizer `tf.keras.optimizers.legacy.{self.__class__.__name__}.'"
     ]
    }
   ],
   "source": [
    "average_len = []\n",
    "for episode in range(5000):\n",
    "    with tf.GradientTape() as tape:\n",
    "        action_probs, rewards, states, actions = step_episode_2(env, model)\n",
    "        loss = complete_loss(action_probs, rewards)\n",
    "    grads = tape.gradient(loss, model.trainable_variables)\n",
    "    optimizer.apply_gradients(zip(grads, model.trainable_variables))\n",
    "    average_len.append(len(rewards)) # adds episode average reward\n",
    "\n",
    "    preference_update(states, actions, rewarder)\n",
    "    \n",
    "    print('Episode', episode)\n",
    "    \n",
    "    print('Average steps to target', np.mean(average_len[-100:]))"
   ]
  },
  {
   "cell_type": "code",
   "execution_count": null,
   "id": "f062a754-577d-4a11-b317-724a7a40fbbb",
   "metadata": {},
   "outputs": [],
   "source": []
  }
 ],
 "metadata": {
  "kernelspec": {
   "display_name": "Python 3 (ipykernel)",
   "language": "python",
   "name": "python3"
  },
  "language_info": {
   "codemirror_mode": {
    "name": "ipython",
    "version": 3
   },
   "file_extension": ".py",
   "mimetype": "text/x-python",
   "name": "python",
   "nbconvert_exporter": "python",
   "pygments_lexer": "ipython3",
   "version": "3.9.7"
  }
 },
 "nbformat": 4,
 "nbformat_minor": 5
}
